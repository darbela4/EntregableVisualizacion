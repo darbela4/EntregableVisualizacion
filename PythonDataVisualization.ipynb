{
 "cells": [
  {
   "cell_type": "markdown",
   "metadata": {},
   "source": [
    "#Importar librerias y captura de datos de la web"
   ]
  },
  {
   "cell_type": "code",
   "execution_count": 25,
   "metadata": {},
   "outputs": [],
   "source": [
    "import numpy as np\n",
    "import pandas as pd\n",
    "import requests\n",
    "\n",
    "from io import StringIO\n",
    "\n",
    "#captura de datos de la web\n",
    "orig_url='https://drive.google.com/file/d/1iYmo2Tw3ZHaOiSq2SdnSOnMXZTKwTJ9N/view?usp=sharing'#Url original\n",
    "\n",
    "file_id = orig_url.split('/')[-2]\n",
    "dwn_url='https://drive.google.com/uc?export=download&id=' + file_id #Direccion para capturar los datos segun ID\n",
    "url = requests.get(dwn_url).text\n",
    "csv_raw = StringIO(url)\n",
    "df = pd.read_csv(csv_raw)"
   ]
  },
  {
   "cell_type": "markdown",
   "metadata": {},
   "source": [
    "#Ordenar el df dejando solo los datos que se relacionen a PM10 (particulas en suspension)\n",
    "#extraer los datos mas importantes fecha y concentracion (pm10)"
   ]
  },
  {
   "cell_type": "code",
   "execution_count": 26,
   "metadata": {},
   "outputs": [],
   "source": [
    "df.drop(['Autoridad Ambiental', 'Nombre de la estaciÃ³n',\n",
    "       'TecnologÃ­a', 'Latitud', 'Longitud', 'CÃ³digo del departamento',\n",
    "       'Departamento', 'CÃ³digo del municipio', 'Nombre del municipio',\n",
    "       'Tipo de estaciÃ³n', 'Tiempo de exposiciÃ³n', \n",
    "       'Nueva columna georreferenciada'], axis=1, inplace=True)\n",
    "\n",
    "#df despues del drop\n",
    "df.columns = ['fecha','variable','unidades','concentracion']"
   ]
  },
  {
   "cell_type": "code",
   "execution_count": 27,
   "metadata": {},
   "outputs": [
    {
     "data": {
      "text/plain": [
       "Index(['fecha', 'variable', 'unidades', 'concentracion'], dtype='object')"
      ]
     },
     "execution_count": 27,
     "metadata": {},
     "output_type": "execute_result"
    }
   ],
   "source": [
    "df.columns"
   ]
  },
  {
   "cell_type": "code",
   "execution_count": 28,
   "metadata": {},
   "outputs": [
    {
     "data": {
      "text/plain": [
       "(120, 4)"
      ]
     },
     "execution_count": 28,
     "metadata": {},
     "output_type": "execute_result"
    }
   ],
   "source": [
    "df.shape"
   ]
  },
  {
   "cell_type": "code",
   "execution_count": 29,
   "metadata": {},
   "outputs": [],
   "source": [
    "dfFinal = df.drop(df[df['variable']!='PM10'].index)"
   ]
  },
  {
   "cell_type": "code",
   "execution_count": 30,
   "metadata": {},
   "outputs": [],
   "source": [
    "dfFinal.drop(['variable','unidades'], axis=1, inplace=True)"
   ]
  },
  {
   "cell_type": "code",
   "execution_count": 31,
   "metadata": {},
   "outputs": [
    {
     "data": {
      "text/plain": [
       "(20, 2)"
      ]
     },
     "execution_count": 31,
     "metadata": {},
     "output_type": "execute_result"
    }
   ],
   "source": [
    "dfFinal\n",
    "dfFinal.shape"
   ]
  },
  {
   "cell_type": "markdown",
   "metadata": {},
   "source": [
    "Finaliza la captura de datos y empieza la creacion de la visualizacion"
   ]
  },
  {
   "cell_type": "markdown",
   "metadata": {},
   "source": [
    "##Mostrar las concentraciones por variable PM10 en Segovia Antioquia"
   ]
  },
  {
   "cell_type": "markdown",
   "metadata": {},
   "source": [
    "Para el trabajo de visualización enfoncado a los concepto de Tamara, se pretende realizar la abastracción de la tarea de la siguiente forma:\n",
    "Analisis del What de una Visualizacion segun Tamara Munzner\n",
    "En cuanto a la acción se pretende Analizar para Descubrir casos donde los datos son atípicos"
   ]
  },
  {
   "cell_type": "markdown",
   "metadata": {},
   "source": [
    "Analisis del What de una Visualizacion segun Tamara Munzner\n",
    "What? (Saber identificar el tipo de datos) Visualización es una representación visual o gráfica, externa (percepción), basada en computador con el objetivo de facilitar la tarea al usuario, lo más importante son datos, la tarea y los usuarios.\n",
    "\n",
    "What (DataSets)\n",
    "Visualizacion\n",
    "What (Attributes)\n",
    "Visualizacion"
   ]
  },
  {
   "cell_type": "markdown",
   "metadata": {},
   "source": [
    "<img src=https://raw.githubusercontent.com/darbela4/ImagenesTamara/master/what1.jpg>\n"
   ]
  },
  {
   "cell_type": "markdown",
   "metadata": {},
   "source": [
    "<img src=https://raw.githubusercontent.com/darbela4/ImagenesTamara/master/what2.jpg>"
   ]
  },
  {
   "cell_type": "markdown",
   "metadata": {},
   "source": [
    "Analisis del Why de una Visualizacion segun Tamara Munzner\n",
    "Es la abstraction de la tarea, está compuesto de dos partes la acción y el objetivo\n",
    "\n",
    "Why (Actions)\n",
    "Visualizacion\n",
    "Why (Targets)\n",
    "Visualizacion\n"
   ]
  },
  {
   "cell_type": "markdown",
   "metadata": {},
   "source": [
    "<img src=https://raw.githubusercontent.com/darbela4/ImagenesTamara/master/why1.jpg>"
   ]
  },
  {
   "cell_type": "markdown",
   "metadata": {},
   "source": [
    "<img src=https://raw.githubusercontent.com/darbela4/ImagenesTamara/master/why2.jpg>"
   ]
  },
  {
   "cell_type": "markdown",
   "metadata": {},
   "source": [
    "Analisis del How de una Visualizacion segun Tamara Munzner\n",
    "Es la forma en cómo se va a realizar ese análisis visual\n",
    "\n",
    "How\n",
    "Visualizacion"
   ]
  },
  {
   "cell_type": "markdown",
   "metadata": {},
   "source": [
    "<img src=https://raw.githubusercontent.com/darbela4/ImagenesTamara/master/how1.jpg>"
   ]
  },
  {
   "cell_type": "code",
   "execution_count": 32,
   "metadata": {
    "scrolled": true
   },
   "outputs": [
    {
     "name": "stdout",
     "output_type": "stream",
     "text": [
      "    index                      fecha  concentracion\n",
      "0       0  01/10/2014 12:00:00 a. m.           82.4\n",
      "1       1  02/10/2014 12:00:00 a. m.           82.3\n",
      "2       2  03/10/2014 12:00:00 a. m.          106.3\n",
      "3      83  14/09/2014 12:00:00 a. m.           41.7\n",
      "4      84  15/09/2014 12:00:00 a. m.           54.6\n",
      "5      85  16/09/2014 12:00:00 a. m.           57.4\n",
      "6      86  17/09/2014 12:00:00 a. m.           49.2\n",
      "7      87  18/09/2014 12:00:00 a. m.           32.3\n",
      "8      88  19/09/2014 12:00:00 a. m.           43.2\n",
      "9      89  20/09/2014 12:00:00 a. m.           60.9\n",
      "10     90  21/09/2014 12:00:00 a. m.           33.2\n",
      "11     91  22/09/2014 12:00:00 a. m.           26.0\n",
      "12     92  23/09/2014 12:00:00 a. m.           41.9\n",
      "13     93  24/09/2014 12:00:00 a. m.           77.4\n",
      "14     94  25/09/2014 12:00:00 a. m.           57.6\n",
      "15     95  26/09/2014 12:00:00 a. m.           54.1\n",
      "16     96  27/09/2014 12:00:00 a. m.           60.5\n",
      "17     97  28/09/2014 12:00:00 a. m.           49.9\n",
      "18     98  29/09/2014 12:00:00 a. m.           54.4\n",
      "19     99  30/09/2014 12:00:00 a. m.           91.6\n"
     ]
    },
    {
     "data": {
      "text/plain": [
       "Text(0, 0.5, 'Concentración de PM10 en µg/m3')"
      ]
     },
     "execution_count": 32,
     "metadata": {},
     "output_type": "execute_result"
    },
    {
     "data": {
      "image/png": "[encoded data removed]",
      "text/plain": [
       "<Figure size 720x432 with 1 Axes>"
      ]
     },
     "metadata": {},
     "output_type": "display_data"
    }
   ],
   "source": [
    "import matplotlib as mpl\n",
    "import matplotlib.pyplot as plt\n",
    "#import matplotlib.dates as mdates\n",
    "mpl.style.use('ggplot')#estilos de la representacion\n",
    "\n",
    "#ordenamos el index\n",
    "dfFinal.reset_index(inplace = True)\n",
    "print(dfFinal)\n",
    "\n",
    "#visualizacion de datos\n",
    "dfFinal.plot(kind='scatter', x='fecha', y='concentracion', figsize=(10, 6), color='darkblue' )\n",
    "\n",
    "plt.title('Concentración de Particulas en suspensión durante el año 2014 en el Municipio de Segovia')\n",
    "plt.xlabel('Fecha')\n",
    "plt.ylabel('Concentración de PM10 en µg/m3')"
   ]
  },
  {
   "cell_type": "code",
   "execution_count": null,
   "metadata": {},
   "outputs": [],
   "source": []
  }
 ],
 "metadata": {
  "kernelspec": {
   "display_name": "Python 3",
   "language": "python",
   "name": "python3"
  },
  "language_info": {
   "codemirror_mode": {
    "name": "ipython",
    "version": 3
   },
   "file_extension": ".py",
   "mimetype": "text/x-python",
   "name": "python",
   "nbconvert_exporter": "python",
   "pygments_lexer": "ipython3",
   "version": "3.7.6"
  }
 },
 "nbformat": 4,
 "nbformat_minor": 4
}
